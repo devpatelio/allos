{
 "cells": [
  {
   "cell_type": "code",
   "execution_count": null,
   "metadata": {},
   "outputs": [],
   "source": [
    "import pandas as pd\n",
    "\n",
    "class GraphDataset():\n",
    "    def __init__ (self, path):\n",
    "        self.data = pd.read_json(path)\n",
    "        self.nodes = self.data['nodes']\n",
    "        self.edges = self.data['edges']\n",
    "    \n",
    "    def get_all_edges(self, id):\n",
    "        self.node = self.nodes[id]\n",
    "        self.node_edges = {'incoming': [], 'outgoing': []}\n",
    "        for idx, edge in enumerate(self.edges):\n",
    "            if edge['source'] == id:\n",
    "                self.node_edges['outgoing'].append(edge['target'])\n",
    "            elif edge['target'] == id:\n",
    "                self.node_edges['incoming'].append(edge['source'])\n",
    "        return {id: self.node_edges}\n",
    "    \n",
    "    def get_data(self):\n",
    "        dic_data = self.data.to_dict()\n",
    "        return dic_data\n",
    "\n",
    "\n",
    "\n",
    "\n",
    "graph_objects = {1: None}\n",
    "ex = GraphDataset('data.json')\n",
    "graph_objects[1] = ex\n",
    "ex.get_data()"
   ]
  },
  {
   "cell_type": "code",
   "execution_count": null,
   "metadata": {},
   "outputs": [],
   "source": [
    "graph_objects[1]"
   ]
  },
  {
   "cell_type": "code",
   "execution_count": null,
   "metadata": {},
   "outputs": [],
   "source": []
  }
 ],
 "metadata": {
  "kernelspec": {
   "display_name": "base",
   "language": "python",
   "name": "python3"
  },
  "language_info": {
   "codemirror_mode": {
    "name": "ipython",
    "version": 3
   },
   "file_extension": ".py",
   "mimetype": "text/x-python",
   "name": "python",
   "nbconvert_exporter": "python",
   "pygments_lexer": "ipython3",
   "version": "3.11.5"
  }
 },
 "nbformat": 4,
 "nbformat_minor": 2
}
